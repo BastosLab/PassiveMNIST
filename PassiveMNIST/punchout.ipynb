{
 "cells": [
  {
   "cell_type": "code",
   "execution_count": 1,
   "id": "7bae8eab-9a6e-4cb3-a103-3863e6ea026e",
   "metadata": {},
   "outputs": [],
   "source": [
    "import cv2 as cv\n",
    "import datetime\n",
    "import numpy as np\n",
    "import os"
   ]
  },
  {
   "cell_type": "code",
   "execution_count": 2,
   "id": "000871cd-cabc-43ed-9707-e12e94028767",
   "metadata": {},
   "outputs": [],
   "source": [
    "def video_frames(video_file):\n",
    "    assert os.path.isfile(video_file)\n",
    "    video = cv.VideoCapture(video_file)\n",
    "    yesh = True\n",
    "    while yesh:\n",
    "        yesh, frame = video.read()\n",
    "        if yesh:\n",
    "            yield frame\n",
    "    video.release()"
   ]
  },
  {
   "cell_type": "code",
   "execution_count": 3,
   "id": "f22fabf3-c36a-4421-ba08-e16e98038948",
   "metadata": {},
   "outputs": [],
   "source": [
    "PUNCH_OUT_COLOR = 1"
   ]
  },
  {
   "cell_type": "code",
   "execution_count": 4,
   "id": "bb2f62cb-c341-4e65-aafe-0ad44d9e356d",
   "metadata": {},
   "outputs": [],
   "source": [
    "def punch_frame(frame, pixel_circs):\n",
    "    for ((x, y, r), punchout) in pixel_circs:\n",
    "        mask = np.zeros(frame.shape, np.uint8)\n",
    "        mask = cv.circle(mask, (x, y), r, (PUNCH_OUT_COLOR, PUNCH_OUT_COLOR, PUNCH_OUT_COLOR), -1)\n",
    "        if punchout:\n",
    "            frame = np.where(mask > 0, mask, frame)\n",
    "        else:\n",
    "            frame = np.where(mask > 0, frame, mask + PUNCH_OUT_COLOR)\n",
    "    return frame"
   ]
  },
  {
   "cell_type": "code",
   "execution_count": 5,
   "id": "eb708179-6a03-41ac-a77c-6d2615dcbe03",
   "metadata": {},
   "outputs": [],
   "source": [
    "FPS  = 120\n",
    "SIZE = (64, 64)\n",
    "\n",
    "def punch_video(video_file, style, pixel_circs):\n",
    "    basename = os.path.basename(video_file)\n",
    "    now = str(datetime.datetime.now(tz=datetime.timezone.utc))\n",
    "    punched_stem = os.path.dirname(os.path.dirname(video_file)) + \"/\" + style + now\n",
    "    os.makedirs(punched_stem)\n",
    "    writer = cv.VideoWriter(punched_stem + \"/\" + basename, cv.VideoWriter_fourcc(*'mp4v'), FPS, SIZE, True)\n",
    "\n",
    "    for frame in video_frames(video_file):\n",
    "        writer.write(punch_frame(frame, pixel_circs))\n",
    "\n",
    "    writer.release()"
   ]
  },
  {
   "cell_type": "code",
   "execution_count": 6,
   "id": "39a35723-d6b5-415a-8373-a48b43078b8f",
   "metadata": {},
   "outputs": [],
   "source": [
    "DISTANCE_TO_SCREEN = 106\n",
    "SCALE_MOVIE = 15\n",
    "SCREEN_DIMS = (100, 62)\n",
    "SCREEN_RES = (1920, 1080)\n",
    "VIDEO_RES = (64, 64)\n",
    "SCALED_VIDEO_RES = (VIDEO_RES[0] * SCALE_MOVIE, VIDEO_RES[1] * SCALE_MOVIE)\n",
    "VIDEO_THRESHOLDS = [\n",
    "    [(SCREEN_RES[0] - SCALED_VIDEO_RES[0]) / 2, (SCREEN_RES[1] - SCALED_VIDEO_RES[1]) / 2],\n",
    "    [(SCREEN_RES[0] + SCALED_VIDEO_RES[0]) / 2, (SCREEN_RES[1] + SCALED_VIDEO_RES[1]) / 2]\n",
    "]"
   ]
  },
  {
   "cell_type": "code",
   "execution_count": 7,
   "id": "494564bf-bb5a-43ee-820b-ce1de01cfb2a",
   "metadata": {},
   "outputs": [],
   "source": [
    "SCREEN_HALFWIDTH_DEGREES = np.degrees(np.arctan(SCREEN_DIMS[0] / 2 / DISTANCE_TO_SCREEN))\n",
    "SCREEN_HALFHEIGHT_DEGREES = np.degrees(np.arctan(SCREEN_DIMS[1] / 2 / DISTANCE_TO_SCREEN))"
   ]
  },
  {
   "cell_type": "code",
   "execution_count": 8,
   "id": "2f82277a-af56-46d4-90a6-4444b74431a2",
   "metadata": {},
   "outputs": [],
   "source": [
    "def degrees_to_pixels(theta):\n",
    "    return theta * SCREEN_RES[0] / (2 * SCREEN_HALFWIDTH_DEGREES)"
   ]
  },
  {
   "cell_type": "code",
   "execution_count": 9,
   "id": "215d2966-0848-4c24-ba62-a78bf2ba3788",
   "metadata": {},
   "outputs": [],
   "source": [
    "# LOWER PIXEL X => LEFTER\n",
    "# LOWER PIXEL Y => HIGHER\n",
    "def circle_to_pixels(x, y, r):\n",
    "    x = SCREEN_RES[0] / 2 + degrees_to_pixels(x)\n",
    "    y = SCREEN_RES[1] / 2 - degrees_to_pixels(y)\n",
    "    return x, y, degrees_to_pixels(r)"
   ]
  },
  {
   "cell_type": "code",
   "execution_count": 10,
   "id": "1f6db664-038f-4589-b27e-6a87a8efb3c2",
   "metadata": {},
   "outputs": [],
   "source": [
    "HOLD_DEGREES = 3"
   ]
  },
  {
   "cell_type": "code",
   "execution_count": 11,
   "id": "98d74bde-6428-4660-b9ab-46900c61b601",
   "metadata": {},
   "outputs": [],
   "source": [
    "RFS = [((5, 5, 2), True)]"
   ]
  },
  {
   "cell_type": "code",
   "execution_count": 12,
   "id": "dc1ce971-7995-4fbd-aeab-ca6a59f02b99",
   "metadata": {},
   "outputs": [],
   "source": [
    "def rfs_to_pixels(rfs):\n",
    "    for ((x, y, r), p) in rfs:\n",
    "        x, y, r = circle_to_pixels(x, y, r + HOLD_DEGREES)\n",
    "        x = (x - VIDEO_THRESHOLDS[0][0]) / SCALE_MOVIE\n",
    "        y = (y - VIDEO_THRESHOLDS[0][1]) / SCALE_MOVIE\n",
    "        r /= SCALE_MOVIE\n",
    "        if x >= 0 and x < VIDEO_RES[0] and y >= 0 and y < VIDEO_RES[1]:\n",
    "            yield ((round(x), round(y), round(r)), p)"
   ]
  },
  {
   "cell_type": "code",
   "execution_count": 13,
   "id": "ae8cfd13-0ce0-490f-bd89-ec7dfd95b4ba",
   "metadata": {},
   "outputs": [],
   "source": [
    "punch_video(\"/home/eli/Documents/MATLAB/Passive Moving MNIST/full/moving_mnist0.mp4\", \"punch_trial\",  list(rfs_to_pixels(RFS)))"
   ]
  },
  {
   "cell_type": "code",
   "execution_count": null,
   "id": "be66b853-0a0a-4c16-b9fa-7a6889c32aeb",
   "metadata": {},
   "outputs": [],
   "source": []
  }
 ],
 "metadata": {
  "kernelspec": {
   "display_name": "Python [conda env:ephys] *",
   "language": "python",
   "name": "conda-env-ephys-py"
  },
  "language_info": {
   "codemirror_mode": {
    "name": "ipython",
    "version": 3
   },
   "file_extension": ".py",
   "mimetype": "text/x-python",
   "name": "python",
   "nbconvert_exporter": "python",
   "pygments_lexer": "ipython3",
   "version": "3.11.8"
  }
 },
 "nbformat": 4,
 "nbformat_minor": 5
}
