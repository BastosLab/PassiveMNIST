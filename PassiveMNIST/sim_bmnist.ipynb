{
 "cells": [
  {
   "cell_type": "code",
   "execution_count": 1,
   "id": "dd76d97a-8cbe-4f26-bf57-80a6e3f29f95",
   "metadata": {},
   "outputs": [
    {
     "name": "stdout",
     "output_type": "stream",
     "text": [
      "/home/eli/AnacondaProjects/PassiveMNIST\n"
     ]
    }
   ],
   "source": [
    "%cd .."
   ]
  },
  {
   "cell_type": "code",
   "execution_count": 2,
   "id": "7bae8eab-9a6e-4cb3-a103-3863e6ea026e",
   "metadata": {},
   "outputs": [],
   "source": [
    "import cv2 as cv\n",
    "import datetime\n",
    "import numpy as np\n",
    "import os\n",
    "import shutil"
   ]
  },
  {
   "cell_type": "code",
   "execution_count": 3,
   "id": "39a35723-d6b5-415a-8373-a48b43078b8f",
   "metadata": {},
   "outputs": [],
   "source": [
    "FPS = 120\n",
    "DISTANCE_TO_SCREEN = 106\n",
    "# SCALE_MOVIE = 15\n",
    "SCALE_MOVIE = (1920 / 128, 1080 / 72)\n",
    "SCREEN_DIMS = (100, 62)\n",
    "SCREEN_RES = (1920, 1080)\n",
    "SCALED_VIDEO_RES = (SCREEN_RES[0], SCREEN_RES[1])\n",
    "VIDEO_SECONDS = 10\n",
    "VIDEO_RES = (128, 72)\n",
    "VIDEO_THRESHOLDS = [\n",
    "    [(SCREEN_RES[0] - SCALED_VIDEO_RES[0]) / 2, (SCREEN_RES[1] - SCALED_VIDEO_RES[1]) / 2],\n",
    "    [(SCREEN_RES[0] + SCALED_VIDEO_RES[0]) / 2, (SCREEN_RES[1] + SCALED_VIDEO_RES[1]) / 2]\n",
    "]"
   ]
  },
  {
   "cell_type": "code",
   "execution_count": 4,
   "id": "494564bf-bb5a-43ee-820b-ce1de01cfb2a",
   "metadata": {},
   "outputs": [],
   "source": [
    "SCREEN_HALFWIDTH_DEGREES = np.degrees(np.arctan(SCREEN_DIMS[0] / 2 / DISTANCE_TO_SCREEN))\n",
    "SCREEN_HALFHEIGHT_DEGREES = np.degrees(np.arctan(SCREEN_DIMS[1] / 2 / DISTANCE_TO_SCREEN))"
   ]
  },
  {
   "cell_type": "code",
   "execution_count": 5,
   "id": "2f82277a-af56-46d4-90a6-4444b74431a2",
   "metadata": {},
   "outputs": [],
   "source": [
    "def degrees_to_pixels(theta):\n",
    "    return theta * SCREEN_RES[0] / (2 * SCREEN_HALFWIDTH_DEGREES)"
   ]
  },
  {
   "cell_type": "code",
   "execution_count": 6,
   "id": "215d2966-0848-4c24-ba62-a78bf2ba3788",
   "metadata": {},
   "outputs": [],
   "source": [
    "# LOWER PIXEL X => LEFTER\n",
    "# LOWER PIXEL Y => HIGHER\n",
    "def circle_to_pixels(x, y, r):\n",
    "    x = SCREEN_RES[0] / 2 + degrees_to_pixels(x)\n",
    "    y = SCREEN_RES[1] / 2 - degrees_to_pixels(y)\n",
    "    return float(x), float(y), float(degrees_to_pixels(r))"
   ]
  },
  {
   "cell_type": "code",
   "execution_count": 7,
   "id": "1f6db664-038f-4589-b27e-6a87a8efb3c2",
   "metadata": {},
   "outputs": [],
   "source": [
    "HOLD_DEGREES = 3"
   ]
  },
  {
   "cell_type": "code",
   "execution_count": 14,
   "id": "dc1ce971-7995-4fbd-aeab-ca6a59f02b99",
   "metadata": {},
   "outputs": [],
   "source": [
    "def rfs_to_pixels(rfs):\n",
    "    for ((x, y, r), p) in rfs:\n",
    "        x, y, r = circle_to_pixels(x, y, r + HOLD_DEGREES)\n",
    "        x = (x - VIDEO_THRESHOLDS[0][0]) / SCALE_MOVIE[0]\n",
    "        y = (y - VIDEO_THRESHOLDS[0][1]) / SCALE_MOVIE[1]\n",
    "        r /= np.array(SCALE_MOVIE).mean()\n",
    "        if x >= 0 and x < VIDEO_RES[0] and y >= 0 and y < VIDEO_RES[1]:\n",
    "            yield ((round(x), round(y), round(r)), p)"
   ]
  },
  {
   "cell_type": "code",
   "execution_count": 9,
   "id": "98d74bde-6428-4660-b9ab-46900c61b601",
   "metadata": {},
   "outputs": [],
   "source": [
    "RFS = [(1.7654, -4.1565, 3.8086)]"
   ]
  },
  {
   "cell_type": "code",
   "execution_count": 10,
   "id": "f85e82cc-bf29-49f3-94e4-9248e58677f4",
   "metadata": {},
   "outputs": [],
   "source": [
    "from PassiveMNIST import sim_bmnist"
   ]
  },
  {
   "cell_type": "code",
   "execution_count": 11,
   "id": "dd1567ba-24af-4a9f-acbe-6533e9bfc0fb",
   "metadata": {},
   "outputs": [],
   "source": [
    "NUM_VIDEOS = 5\n",
    "TIMESTEPS = VIDEO_SECONDS * FPS"
   ]
  },
  {
   "cell_type": "code",
   "execution_count": 12,
   "id": "7242af39-27a2-4629-877c-2018aea734d9",
   "metadata": {},
   "outputs": [
    {
     "name": "stdout",
     "output_type": "stream",
     "text": [
      "Start to simulate bouncing mnist sequences...\n",
      "(0s) Simulated 5 sequences, saved to 'data/movmnist_1/ob-1', 0 sequences left.\n",
      "Start to simulate bouncing mnist sequences...\n",
      "(2s) Simulated 5 sequences, saved to 'data/movmnist_2/ob-1', 0 sequences left.\n",
      "Start to simulate bouncing mnist sequences...\n",
      "(2s) Simulated 5 sequences, saved to 'data/movmnist_3/ob-1', 0 sequences left.\n"
     ]
    }
   ],
   "source": [
    "for d in range(1, 4):\n",
    "    simulator = sim_bmnist.Sim_BMNIST(TIMESTEPS, d, VIDEO_RES, 0.015, 10)\n",
    "    dirpath = 'data/movmnist_%d/' % d\n",
    "    if not os.path.exists(dirpath):\n",
    "        os.makedirs(dirpath)\n",
    "    shutil.copy('data/train-images-idx3-ubyte.gz', dirpath)\n",
    "    simulator.sim_save_data(NUM_VIDEOS, dirpath)\n",
    "\n",
    "    bmnists = np.load(dirpath + \"ob-1.npy\")\n",
    "    for v in range(NUM_VIDEOS):\n",
    "        video = (bmnists[v] * 255).astype('uint8')\n",
    "        writer = cv.VideoWriter(dirpath + 'moving_mnist%d.mp4' % v, cv.VideoWriter_fourcc(*\"mp4v\"), FPS, SCREEN_RES, True)\n",
    "        for t in range(bmnists[v].shape[0]):\n",
    "            frame = cv.resize(video[t], SCREEN_RES)\n",
    "            frame = np.repeat(frame[:, :, None], 3, axis=-1)\n",
    "            writer.write(frame)\n",
    "        writer.release()"
   ]
  },
  {
   "cell_type": "code",
   "execution_count": null,
   "id": "98694df4-5676-4072-982e-5fee5a066acd",
   "metadata": {},
   "outputs": [],
   "source": []
  }
 ],
 "metadata": {
  "kernelspec": {
   "display_name": "Python [conda env:ppc]",
   "language": "python",
   "name": "conda-env-ppc-py"
  },
  "language_info": {
   "codemirror_mode": {
    "name": "ipython",
    "version": 3
   },
   "file_extension": ".py",
   "mimetype": "text/x-python",
   "name": "python",
   "nbconvert_exporter": "python",
   "pygments_lexer": "ipython3",
   "version": "3.11.9"
  }
 },
 "nbformat": 4,
 "nbformat_minor": 5
}
